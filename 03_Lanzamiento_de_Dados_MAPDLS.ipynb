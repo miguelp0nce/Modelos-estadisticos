{
  "nbformat": 4,
  "nbformat_minor": 0,
  "metadata": {
    "colab": {
      "provenance": [],
      "include_colab_link": true
    },
    "kernelspec": {
      "name": "python3",
      "display_name": "Python 3"
    },
    "language_info": {
      "name": "python"
    }
  },
  "cells": [
    {
      "cell_type": "markdown",
      "metadata": {
        "id": "view-in-github",
        "colab_type": "text"
      },
      "source": [
        "<a href=\"https://colab.research.google.com/github/miguelp0nce/Modelos-estadisticos/blob/main/03_Lanzamiento_de_Dados_MAPDLS.ipynb\" target=\"_parent\"><img src=\"https://colab.research.google.com/assets/colab-badge.svg\" alt=\"Open In Colab\"/></a>"
      ]
    },
    {
      "cell_type": "markdown",
      "source": [
        "### Ejercicios:\n",
        "\n",
        "\n",
        " Calcula la ley de las siguientes variables aleatorias:\n",
        "\n",
        "1.          - La diferencia de las caras sea mayor que $1$.\n",
        "\n",
        "    - La suma de las caras sea par.\n",
        "\n",
        "Verifica, en cada caso, que $$\\sum_{k\\in R_{X}}\\mathbb{P}(X=x)=1.$$\n",
        "\n"
      ],
      "metadata": {
        "id": "x_3lKI_Dt-Jp"
      }
    },
    {
      "cell_type": "markdown",
      "source": [
        "###Ejercicio 1"
      ],
      "metadata": {
        "id": "7Xe0ZlGyvnbt"
      }
    },
    {
      "cell_type": "code",
      "source": [
        "#Se cargan las librerias\n",
        "from itertools import product\n",
        "from fractions import Fraction"
      ],
      "metadata": {
        "id": "WM0Z6byluDOX"
      },
      "execution_count": null,
      "outputs": []
    },
    {
      "cell_type": "code",
      "source": [
        "#Se inicializa la funcion para calcular la probabilidad\n",
        "def P(A, Omega):\n",
        "  P = Fraction(len(A), len(Omega) )\n",
        "  return P"
      ],
      "metadata": {
        "id": "AWTOmokJu-t_"
      },
      "execution_count": null,
      "outputs": []
    },
    {
      "cell_type": "code",
      "source": [
        "#Generamos todos los posibles casos donde la diferencia de ambos dados sea mayor que 1\n",
        "Omega1 = {(i,j) for i in range(1,7) for j in range(1,7) if abs(i-j) > 1 }\n",
        "Omega1\n"
      ],
      "metadata": {
        "colab": {
          "base_uri": "https://localhost:8080/"
        },
        "id": "ICk1XBLfvG62",
        "outputId": "d45f46ae-0b80-46f6-dc72-93f7995174fc"
      },
      "execution_count": null,
      "outputs": [
        {
          "output_type": "execute_result",
          "data": {
            "text/plain": [
              "{(1, 3),\n",
              " (1, 4),\n",
              " (1, 5),\n",
              " (1, 6),\n",
              " (2, 4),\n",
              " (2, 5),\n",
              " (2, 6),\n",
              " (3, 1),\n",
              " (3, 5),\n",
              " (3, 6),\n",
              " (4, 1),\n",
              " (4, 2),\n",
              " (4, 6),\n",
              " (5, 1),\n",
              " (5, 2),\n",
              " (5, 3),\n",
              " (6, 1),\n",
              " (6, 2),\n",
              " (6, 3),\n",
              " (6, 4)}"
            ]
          },
          "metadata": {},
          "execution_count": 3
        }
      ]
    },
    {
      "cell_type": "code",
      "source": [
        "#Creamos los eventos sumando ambos dados para realizar la verificación\n",
        "S_1 = {(i,j): i+j for i,j in Omega1}\n",
        "S_1\n"
      ],
      "metadata": {
        "colab": {
          "base_uri": "https://localhost:8080/"
        },
        "id": "SKZlsipdvN66",
        "outputId": "c4f8c64f-fa99-476e-e606-209729dab5b5"
      },
      "execution_count": null,
      "outputs": [
        {
          "output_type": "execute_result",
          "data": {
            "text/plain": [
              "{(3, 1): 4,\n",
              " (4, 6): 10,\n",
              " (5, 1): 6,\n",
              " (1, 6): 7,\n",
              " (2, 5): 7,\n",
              " (1, 3): 4,\n",
              " (6, 2): 8,\n",
              " (4, 2): 6,\n",
              " (3, 6): 9,\n",
              " (5, 3): 8,\n",
              " (2, 4): 6,\n",
              " (1, 5): 6,\n",
              " (6, 1): 7,\n",
              " (6, 4): 10,\n",
              " (4, 1): 5,\n",
              " (3, 5): 8,\n",
              " (5, 2): 7,\n",
              " (1, 4): 5,\n",
              " (2, 6): 8,\n",
              " (6, 3): 9}"
            ]
          },
          "metadata": {},
          "execution_count": 4
        }
      ]
    },
    {
      "cell_type": "code",
      "source": [
        "# Librería para el diccionario\n",
        "from collections import defaultdict\n",
        "\n",
        "ds1 = defaultdict(set)\n",
        "ds1\n",
        "\n",
        "#Se agrupan los eventos que se generan en S_1\n",
        "for l_1, v_1 in S_1.items():\n",
        "  ds1[v_1].add(l_1)\n",
        "\n",
        "ds1"
      ],
      "metadata": {
        "colab": {
          "base_uri": "https://localhost:8080/"
        },
        "id": "zt1eN7dhvS0i",
        "outputId": "0c4c7450-1dc5-440b-8608-770ef1905c08"
      },
      "execution_count": null,
      "outputs": [
        {
          "output_type": "execute_result",
          "data": {
            "text/plain": [
              "defaultdict(set,\n",
              "            {4: {(1, 3), (3, 1)},\n",
              "             10: {(4, 6), (6, 4)},\n",
              "             6: {(1, 5), (2, 4), (4, 2), (5, 1)},\n",
              "             7: {(1, 6), (2, 5), (5, 2), (6, 1)},\n",
              "             8: {(2, 6), (3, 5), (5, 3), (6, 2)},\n",
              "             9: {(3, 6), (6, 3)},\n",
              "             5: {(1, 4), (4, 1)}})"
            ]
          },
          "metadata": {},
          "execution_count": 7
        }
      ]
    },
    {
      "cell_type": "code",
      "source": [
        "#Se van a agrupar de acuerdo a la probabilidad de ocurrencia\n",
        "leyS1 = {k : P(A,Omega1) for k , A in ds1.items() }\n",
        "leyS1\n"
      ],
      "metadata": {
        "colab": {
          "base_uri": "https://localhost:8080/"
        },
        "id": "ezoSiEgvvV8W",
        "outputId": "ed608489-0e13-4de9-e5ee-3e7518a5960e"
      },
      "execution_count": null,
      "outputs": [
        {
          "output_type": "execute_result",
          "data": {
            "text/plain": [
              "{4: Fraction(1, 10),\n",
              " 10: Fraction(1, 10),\n",
              " 6: Fraction(1, 5),\n",
              " 7: Fraction(1, 5),\n",
              " 8: Fraction(1, 5),\n",
              " 9: Fraction(1, 10),\n",
              " 5: Fraction(1, 10)}"
            ]
          },
          "metadata": {},
          "execution_count": 8
        }
      ]
    },
    {
      "cell_type": "code",
      "source": [
        "#Pandas para tener un df con nuestros resultados de la suma y probabilidad de ocurrencia\n",
        "import pandas as pd\n",
        "\n",
        "leyS1 = pd.Series(leyS1)\n",
        "leyS1 = leyS1.sort_index()\n",
        "leyS1"
      ],
      "metadata": {
        "colab": {
          "base_uri": "https://localhost:8080/"
        },
        "id": "UAmEuAMmvcV0",
        "outputId": "5d278ff8-a3f2-4697-cff9-a32620d066ad"
      },
      "execution_count": null,
      "outputs": [
        {
          "output_type": "execute_result",
          "data": {
            "text/plain": [
              "4     1/10\n",
              "5     1/10\n",
              "6      1/5\n",
              "7      1/5\n",
              "8      1/5\n",
              "9     1/10\n",
              "10    1/10\n",
              "dtype: object"
            ]
          },
          "metadata": {},
          "execution_count": 9
        }
      ]
    },
    {
      "cell_type": "code",
      "source": [
        "#Se verifica que la suma de 1\n",
        "\n",
        "leyS1.sum()"
      ],
      "metadata": {
        "colab": {
          "base_uri": "https://localhost:8080/"
        },
        "id": "OSqDNoHJvfFP",
        "outputId": "756698fc-c6c3-435c-d481-cbcba90aad3a"
      },
      "execution_count": null,
      "outputs": [
        {
          "output_type": "execute_result",
          "data": {
            "text/plain": [
              "Fraction(1, 1)"
            ]
          },
          "metadata": {},
          "execution_count": 10
        }
      ]
    },
    {
      "cell_type": "markdown",
      "source": [
        "###Ejercicio 2\n"
      ],
      "metadata": {
        "id": "iL1Y8eh6vuEC"
      }
    },
    {
      "cell_type": "code",
      "source": [
        "#Generamos los casos en los que la suma de ambos dados sea par, utilizando el módulo 2 para filtrar solo los pares\n",
        "Omega2 = {(i,j) for i in range(1,7) for j in range(1,7) if (i+j)%2 == 0 }\n",
        "Omega2"
      ],
      "metadata": {
        "colab": {
          "base_uri": "https://localhost:8080/"
        },
        "id": "Y03-KI00vwMe",
        "outputId": "52f2b87f-2d68-4468-b440-dcd2dd9f8663"
      },
      "execution_count": null,
      "outputs": [
        {
          "output_type": "execute_result",
          "data": {
            "text/plain": [
              "{(1, 1),\n",
              " (1, 3),\n",
              " (1, 5),\n",
              " (2, 2),\n",
              " (2, 4),\n",
              " (2, 6),\n",
              " (3, 1),\n",
              " (3, 3),\n",
              " (3, 5),\n",
              " (4, 2),\n",
              " (4, 4),\n",
              " (4, 6),\n",
              " (5, 1),\n",
              " (5, 3),\n",
              " (5, 5),\n",
              " (6, 2),\n",
              " (6, 4),\n",
              " (6, 6)}"
            ]
          },
          "metadata": {},
          "execution_count": 11
        }
      ]
    },
    {
      "cell_type": "code",
      "source": [
        "#Se generan los eventos con la suma de ambos dados para comprobar\n",
        "S_2 = {(i,j): i+j for i,j in Omega2}\n",
        "S_2\n"
      ],
      "metadata": {
        "colab": {
          "base_uri": "https://localhost:8080/"
        },
        "id": "nY7UL6ktwkWc",
        "outputId": "151d4929-1096-4408-c4d3-6ad7d002cf6a"
      },
      "execution_count": null,
      "outputs": [
        {
          "output_type": "execute_result",
          "data": {
            "text/plain": [
              "{(4, 4): 8,\n",
              " (2, 4): 6,\n",
              " (5, 5): 10,\n",
              " (6, 2): 8,\n",
              " (1, 5): 6,\n",
              " (3, 1): 4,\n",
              " (1, 1): 2,\n",
              " (4, 6): 10,\n",
              " (6, 6): 12,\n",
              " (5, 1): 6,\n",
              " (4, 2): 6,\n",
              " (6, 4): 10,\n",
              " (3, 3): 6,\n",
              " (2, 6): 8,\n",
              " (2, 2): 4,\n",
              " (5, 3): 8,\n",
              " (1, 3): 4,\n",
              " (3, 5): 8}"
            ]
          },
          "metadata": {},
          "execution_count": 17
        }
      ]
    },
    {
      "cell_type": "code",
      "source": [
        "#Se inicializa el diccionario\n",
        "ds2 = defaultdict(set)\n",
        "ds2"
      ],
      "metadata": {
        "colab": {
          "base_uri": "https://localhost:8080/"
        },
        "id": "653u6fnpv_Os",
        "outputId": "9eba0f44-7adc-403c-e9a2-1982e8040715"
      },
      "execution_count": null,
      "outputs": [
        {
          "output_type": "execute_result",
          "data": {
            "text/plain": [
              "defaultdict(set, {})"
            ]
          },
          "metadata": {},
          "execution_count": 18
        }
      ]
    },
    {
      "cell_type": "code",
      "source": [
        "#Se agrupan los eventos que se generaron en S_1\n",
        "for l_2, v_2 in S_2.items():\n",
        "  ds2[v_2].add(l_2)\n",
        "\n",
        "ds2\n",
        "\n"
      ],
      "metadata": {
        "colab": {
          "base_uri": "https://localhost:8080/"
        },
        "id": "n00S2sRMwRvC",
        "outputId": "d23dbd87-9c43-4d2a-c689-c1f3f80ad382"
      },
      "execution_count": null,
      "outputs": [
        {
          "output_type": "execute_result",
          "data": {
            "text/plain": [
              "defaultdict(set,\n",
              "            {8: {(2, 6), (3, 5), (4, 4), (5, 3), (6, 2)},\n",
              "             6: {(1, 5), (2, 4), (3, 3), (4, 2), (5, 1)},\n",
              "             10: {(4, 6), (5, 5), (6, 4)},\n",
              "             4: {(1, 3), (2, 2), (3, 1)},\n",
              "             2: {(1, 1)},\n",
              "             12: {(6, 6)}})"
            ]
          },
          "metadata": {},
          "execution_count": 19
        }
      ]
    },
    {
      "cell_type": "code",
      "source": [
        "#Se agrupa de acuerdo a la probabilidad de ocurrencia\n",
        "leyS2 = {k : P(A,Omega2) for k , A in ds2.items() }\n",
        "leyS2\n"
      ],
      "metadata": {
        "colab": {
          "base_uri": "https://localhost:8080/"
        },
        "id": "rt93XSEUwp0X",
        "outputId": "42d8b727-0350-4359-df84-5981b382eae3"
      },
      "execution_count": null,
      "outputs": [
        {
          "output_type": "execute_result",
          "data": {
            "text/plain": [
              "{8: Fraction(5, 18),\n",
              " 6: Fraction(5, 18),\n",
              " 10: Fraction(1, 6),\n",
              " 4: Fraction(1, 6),\n",
              " 2: Fraction(1, 18),\n",
              " 12: Fraction(1, 18)}"
            ]
          },
          "metadata": {},
          "execution_count": 20
        }
      ]
    },
    {
      "cell_type": "code",
      "source": [
        "#Obtendremos resultados de la suma y probabilidad de ocurrencia con ayuda de un df\n",
        "leyS2 = pd.Series(leyS2)\n",
        "leyS2 = leyS2.sort_index()\n",
        "leyS2"
      ],
      "metadata": {
        "colab": {
          "base_uri": "https://localhost:8080/"
        },
        "id": "NPKm0he3wu8w",
        "outputId": "ff18acd4-d349-42bc-e7a4-d88341eabb34"
      },
      "execution_count": null,
      "outputs": [
        {
          "output_type": "execute_result",
          "data": {
            "text/plain": [
              "2     1/18\n",
              "4      1/6\n",
              "6     5/18\n",
              "8     5/18\n",
              "10     1/6\n",
              "12    1/18\n",
              "dtype: object"
            ]
          },
          "metadata": {},
          "execution_count": 21
        }
      ]
    },
    {
      "cell_type": "code",
      "source": [
        "#Revisamos que la suma de 1\n",
        "\n",
        "leyS2.sum()"
      ],
      "metadata": {
        "colab": {
          "base_uri": "https://localhost:8080/"
        },
        "id": "HYMeBW9Mw3_K",
        "outputId": "eee39af5-0e7b-4de1-c6cb-530462bcfa0d"
      },
      "execution_count": null,
      "outputs": [
        {
          "output_type": "execute_result",
          "data": {
            "text/plain": [
              "Fraction(1, 1)"
            ]
          },
          "metadata": {},
          "execution_count": 22
        }
      ]
    }
  ]
}