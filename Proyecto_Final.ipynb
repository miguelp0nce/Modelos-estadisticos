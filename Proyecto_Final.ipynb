{
  "nbformat": 4,
  "nbformat_minor": 0,
  "metadata": {
    "colab": {
      "provenance": [],
      "include_colab_link": true
    },
    "kernelspec": {
      "name": "python3",
      "display_name": "Python 3"
    },
    "language_info": {
      "name": "python"
    }
  },
  "cells": [
    {
      "cell_type": "markdown",
      "metadata": {
        "id": "view-in-github",
        "colab_type": "text"
      },
      "source": [
        "<a href=\"https://colab.research.google.com/github/miguelp0nce/Modelos-estadisticos/blob/main/Proyecto_Final.ipynb\" target=\"_parent\"><img src=\"https://colab.research.google.com/assets/colab-badge.svg\" alt=\"Open In Colab\"/></a>"
      ]
    },
    {
      "cell_type": "markdown",
      "source": [
        "# **Tarea Final: Equipo 4**\n",
        "## Integrantes:\n",
        "\n",
        "*   Massiel Amairani Palacios Tafolla\n",
        "*   Jair Dominguez Aguilar\n",
        "*   Miguel Ángel Ponce de León Sánchez\n",
        "*   Jorge Aurelio Valdez Osorio\n",
        "*   Juan Carlos Pulido González"
      ],
      "metadata": {
        "id": "c5Ut3Us6gw_X"
      }
    },
    {
      "cell_type": "markdown",
      "source": [
        "### 1.- Investiga sobre el método de momentos y da dos ejemplos."
      ],
      "metadata": {
        "id": "VWhsUwJchLqp"
      }
    },
    {
      "cell_type": "markdown",
      "source": [
        "# Método de momentos.\n",
        "Sea X una v.a. con función de probabilidad puntual pₓ(x)en el caso discreto\n",
        "o función de densidad fₓ(x) en el caso continuo. Se denomina momento de orden *k* (*k* ∈ *N*) o momento poblacional de orden *k* a E(Xᵏ), es decir:\n",
        "\n",
        "$$E({X}^k)=\\begin{cases}\n",
        "\t\\int_{-\\infty}^{\\infty} x^k f_x \\mathrm{d}x &\\quad \\text{En el caso continuo} \\\\\n",
        "\t\\sum_{x}x^kp_x(x) &\\quad \\text{En el caso discreto}  \n",
        "\\end{cases}$$\n",
        "donde f(x) es la función de densidad de probabilidad de la variable aleatoria X, si X es continua, ó P(x) es la distribución de probabilidad de X, si X es discreta."
      ],
      "metadata": {
        "id": "37Are3KBjHRT"
      }
    },
    {
      "cell_type": "markdown",
      "source": [
        "Dada una muestra aleatoria $X_1, X_2, ..., X_n$ , **el momento muestral de orden k** es:\n",
        "\n",
        " $$\\frac{\\sum_{i=1}^{n}X \\stackrel{k}{i}}{n}$$\n",
        "Siempre y cuando se tenga una muestra aleatoria simple, de tamaño n, el k-ésimo momento\n",
        "muestral"
      ],
      "metadata": {
        "id": "m-TTBAWRjKnU"
      }
    },
    {
      "cell_type": "markdown",
      "source": [
        "## Definición:\n",
        "\n",
        "Sea $X_{1}, X_2, ..., X_n $  una muestra aleatoria de una distribución con función de probabilidad puntual o función de densidad que depende de $m$ parámetros $θ_1, θ_2, ..., θ_m$. Los estimadores de momentos de $θ_1, θ_2, ..., θ_m$ son los valores $\\hat{θ}_1, \\hat{θ}_2, ..., \\hat{θ}_3$ que se obtienen\n",
        "igualando $m$ momentos poblacionales con los correspondientes momentos muestrales. En general, se obtienen resolviendo el siguiente sistema de ecuaciones.\n",
        "\n",
        " $$\\frac{\\sum_{i=1}^{n}X \\stackrel{k}{i}}{n} = E(X^k)$$ $$k=1, 2, ..., m$$"
      ],
      "metadata": {
        "id": "_yuCGd5GjOWm"
      }
    },
    {
      "cell_type": "markdown",
      "source": [
        "### Ejemplo 1\n",
        " Sea $X_{1}, X_2, ..., X_n $ una muestra aleatoria de una distribución exponencial de parámetro $λ$. Como hay un solo parámetro a estimar, basta plantear una ecuación basada en el primer momento.\n",
        " $\\frac{\\sum_{i=1}^{n} X_i}{n} = E(X) \\implies \\frac{\\sum_{i=1}^{n} X_i}{n} = \\frac{1}{\\lambda} \\implies \\hat{\\lambda} = \\frac{n}{\\sum_{i=1}^{n} X_i} \\implies \\hat{\\lambda} = \\frac{1}{\\bar{X}}$"
      ],
      "metadata": {
        "id": "bIRQ0wQljR9C"
      }
    },
    {
      "cell_type": "markdown",
      "source": [
        "### Ejemplo 2.\n",
        "Sea $X_{1}, X_2, ..., X_n $ una muestra aleatoria de una distribución $\\Gamma(\\alpha, \\lambda)$. Como hay dos parámetros a estimar, planteamos un sistema de ecuaciones basadas en el primer y en el segundo\n",
        "momento.\n",
        "\n",
        "Usando que si $X \\sim \\Gamma(\\alpha, \\lambda)$, $E(X) = \\frac{\\alpha}{\\lambda}$\n",
        "y $V(X) = \\frac{\\alpha}{\\lambda^2}$ y la relación $V(X) = E(X^2)-(E(X))^2$\n",
        "\n",
        "$$\n",
        "\\begin{cases}\n",
        "\\frac{\\sum\\limits_{i=1}^n X_i}{n} = E(X) \\\\\n",
        "\\frac{\\sum\\limits_{i=1}^n X_i^2}{n} = E(X^2)\n",
        "\\end{cases}\n",
        "\\implies\n",
        "\\begin{cases}\n",
        "\\frac{\\sum\\limits_{i=1}^n X_i}{n} = \\frac{\\alpha}{\\lambda} \\\\\n",
        "\\frac{\\sum\\limits_{i=1}^n X_i^2}{n} = \\frac{\\alpha}{\\lambda^2} + \\left(\\frac{\\alpha}{\\lambda}\\right)^2\n",
        "\\end{cases}\n",
        "$$\n",
        "\n",
        "Reemplazando $\\overline{X} = \\frac{\\alpha}{\\lambda}$ en la segunda ecuación, se obtiene:\n",
        "$$\\frac{\\sum_{i=1}^{n} X_i^2}{n} = \\frac{\\overline{X}}{\\lambda} + \\overline{X}^2$$\n",
        "\n",
        "y, despejando $λ$:\n",
        "$$\\frac{\\overline{X}}{\\lambda} = \\frac{\\sum_{i=1}^{n} X_i^2}{n} - \\overline{X}^2\n",
        "\\implies\n",
        "\\hat{\\lambda} = \\frac{\\bar{X}}{\\frac{\\sum_{i=1}^{n}X_{i}^{2}}{n}-\\bar{X}^{2}}$$\n",
        "\n",
        "Finalmente, reemplazando el estimador de $λ$ en la primera ecuación, obtenemos el estimador de $α$:\n",
        "\n",
        "$$\\hat{a} = \\frac{\\overline{X}^2}{\\frac{\\sum_{i=1}^{n} X_i^2}{n}-\\overline{X}^2}$$"
      ],
      "metadata": {
        "id": "VsrUTj4ejWlg"
      }
    },
    {
      "cell_type": "markdown",
      "source": [
        "El estimador de$\\hat{\\lambda}$:\n",
        "\n",
        "$$\\hat{\\lambda} = \\frac{\\overline{X}}{\\frac{\\sum_{i=1}^n X_i^2}{n} - \\overline{X}^2}$$\n",
        "\n",
        "Se basa en el primer y segundo momento muestral. La idea es que, para una muestra dada $X_1, X_2, ..., X_n$, la media muestral $\\overline{X}$ y la media de los cuadrados $\\frac{\\sum_{i=1}^n X_i^2}{n}$ proporcionan una manera de estimar el parámetro $\\lambda$ de la distribución Gamma. La fórmula ajusta la media muestral en función de la dispersión de los datos alrededor de la media.\n",
        "\n",
        "El estimador de $α$:\n",
        "\n",
        "$$\\hat{a} = \\frac{\\overline{X}^2}{\\frac{\\sum_{i=1}^{n} X_i^2}{n}-\\overline{X}^2}$$\n",
        "\n",
        "Este estimador también se basa en el primer y segundo momento muestral. La idea es utilizar la relación entre la media y la varianza para proporcionar una estimación del parámetro α. La fórmula refleja cómo la media cuadrática muestral se ajusta por la varianza muestral para proporcionar una estimación de\n",
        "α.\n",
        "\n"
      ],
      "metadata": {
        "id": "vAE8Cw5_jZ_G"
      }
    },
    {
      "cell_type": "markdown",
      "source": [
        "### 2.- Calcula el MLE para la media $\\mu$ y varianza $\\sigma^2$ de una muestra normal."
      ],
      "metadata": {
        "id": "kW4WO3bthZRD"
      }
    },
    {
      "cell_type": "markdown",
      "source": [
        "\n",
        "La función de densidad de probabilidad para una distribución normal es:\n",
        "$$\n",
        "f(x; \\mu, \\sigma^2) = \\frac{1}{\\sqrt{2\\pi\\sigma^2}} \\exp\\left( -\\frac{(x - \\mu)^2}{2\\sigma^2} \\right)\n",
        "$$\n",
        "\n",
        "Por lo cual la función de verosimilitud sería :\n",
        "$$\n",
        "L(\\mu, \\sigma^2) = \\prod_{i=1}^n f(x_i; \\mu, \\sigma^2) = \\prod_{i=1}^n \\frac{1}{\\sqrt{2\\pi\\sigma^2}} \\exp\\left( -\\frac{(x_i - \\mu)^2}{2\\sigma^2} \\right)\n",
        "$$\n",
        "Aplicando ahora el logaritmo natural a la función anterior tenemos:\n",
        "$$\n",
        "\\ell(\\mu, \\sigma^2) = \\log L(\\mu, \\sigma^2)\n",
        "$$\n",
        "$$\n",
        "\\ell(\\mu, \\sigma^2) = \\log \\left( \\prod_{i=1}^n \\frac{1}{\\sqrt{2\\pi\\sigma^2}} \\exp\\left( -\\frac{(x_i - \\mu)^2}{2\\sigma^2} \\right) \\right)\n",
        "$$\n",
        "$$\n",
        "\\ell(\\mu, \\sigma^2) = \\sum_{i=1}^n \\log \\left( \\frac{1}{\\sqrt{2\\pi\\sigma^2}} \\exp\\left( -\\frac{(x_i - \\mu)^2}{2\\sigma^2} \\right) \\right)\n",
        "$$\n",
        "$$\n",
        "\\ell(\\mu, \\sigma^2) = \\sum_{i=1}^n \\left( \\log \\frac{1}{\\sqrt{2\\pi\\sigma^2}} + \\log \\exp\\left( -\\frac{(x_i - \\mu)^2}{2\\sigma^2} \\right) \\right)\n",
        "$$\n",
        "$$\n",
        "\\ell(\\mu, \\sigma^2) = \\sum_{i=1}^n \\left( -\\frac{1}{2} \\log(2\\pi\\sigma^2) - \\frac{(x_i - \\mu)^2}{2\\sigma^2} \\right)\n",
        "$$\n",
        "$$\n",
        "\\ell(\\mu, \\sigma^2) = -\\frac{n}{2} \\log(2\\pi\\sigma^2) - \\frac{1}{2\\sigma^2} \\sum_{i=1}^n (x_i - \\mu)^2\n",
        "$$\n",
        "\n",
        "Derivamos con respecto a $ \\mu $ y $ \\sigma^2 $ y las igualamos a cero para encontrar los estimadores de máxima verosimilitud.\n",
        "\n",
        "Derivada con respecto a $ \\mu $:\n",
        "$$\n",
        "\\frac{\\partial \\ell(\\mu, \\sigma^2)}{\\partial \\mu} = -\\frac{1}{2\\sigma^2} \\left( -2 \\sum_{i=1}^n (x_i - \\mu) \\right)\n",
        "$$\n",
        "$$\n",
        "\\frac{\\partial \\ell(\\mu, \\sigma^2)}{\\partial \\mu} = \\frac{1}{\\sigma^2} \\sum_{i=1}^n (x_i - \\mu)\n",
        "$$\n",
        "Igualamos a cero:\n",
        "$$\n",
        "\\frac{1}{\\sigma^2} \\sum_{i=1}^n (x_i - \\mu) = 0\n",
        "$$\n",
        "$$\n",
        "\\sum_{i=1}^n (x_i - \\mu) = 0\n",
        "$$\n",
        "$$\n",
        "\\sum_{i=1}^n x_i - n\\mu = 0\n",
        "$$\n",
        "$$\n",
        "\\mu = \\frac{1}{n} \\sum_{i=1}^n x_i = \\bar{x}\n",
        "$$\n",
        "\n",
        "Entonces, el estimador de máxima verosimilitud para $ \\mu $ es:\n",
        "$$\n",
        "\\hat{\\mu} = \\bar{x}\n",
        "$$\n",
        "\n",
        "Derivada con respecto a $ \\sigma^2 $:\n",
        "$$\n",
        "\\frac{\\partial \\ell(\\mu, \\sigma^2)}{\\partial \\sigma^2} = -\\frac{n}{2\\sigma^2} + \\frac{1}{2\\sigma^4} \\sum_{i=1}^n (x_i - \\mu)^2\n",
        "$$\n",
        "\n",
        "Igualamos a cero:\n",
        "$$\n",
        "-\\frac{n}{2\\sigma^2} + \\frac{1}{2\\sigma^4} \\sum_{i=1}^n (x_i - \\mu)^2 = 0\n",
        "$$\n",
        "$$\n",
        "\\frac{1}{2\\sigma^4} \\sum_{i=1}^n (x_i - \\mu)^2 = \\frac{n}{2\\sigma^2}\n",
        "$$\n",
        "$$\n",
        "\\sum_{i=1}^n (x_i - \\mu)^2 = n\\sigma^2\n",
        "$$\n",
        "$$\n",
        "\\sigma^2 = \\frac{1}{n} \\sum_{i=1}^n (x_i - \\mu)^2\n",
        "$$\n",
        "\n",
        "Con el estimador $ \\mu $ encontrado anteriormente, el estimador de máxima verosimilitud para $ \\sigma^2 $ es:\n",
        "$$\n",
        "\\hat{\\sigma}^2 = \\frac{1}{n} \\sum_{i=1}^n (x_i - \\bar{x})^2\n",
        "$$\n",
        "\n",
        "Concluimos entonces que los estimadores de máxima verosimilitud para una distribución normal son:\n",
        "$$\n",
        "\\hat{\\mu} = \\bar{x}\n",
        "$$\n",
        "$$\n",
        "\\hat{\\sigma}^2 = \\frac{1}{n} \\sum_{i=1}^n (x_i - \\bar{x})^2\n",
        "$$\n"
      ],
      "metadata": {
        "id": "77dzQq1VOMf8"
      }
    },
    {
      "cell_type": "markdown",
      "source": [
        "### 3.- Resuelve el ejemplo Example 8.17 de la sección 8.3.2"
      ],
      "metadata": {
        "id": "-DOkbU6Ahbxw"
      }
    },
    {
      "cell_type": "markdown",
      "source": [
        "(Encuesta de opinion publica)\n",
        "Queremos estimar la porcion de la poblacion que planea votar por el candidato A en las elecciones venideras. Se asume que el numero de voantes es suficientemente grande y que $\\theta$ es la porcion de votantes que planean votar por el candidato A.\n",
        "Definimos la variable aleatoria $X$ de la siguiente manera:\n",
        "Un votante es elegido de manera aleatoria uniforme entre toedos los votantes y le preguntamos: \"Usted planea votar por el candidato A?\". Si responden que si entonces $X=1$, en caso contrario $X=0$.\n",
        "\n",
        "Entonces, $X \\sim Bernoulli(\\theta)$.\n",
        "\n",
        "Sea $X_1, X_2, X_3, ..., X_n$ una muestra aleatoria de esta distribucion. Es decir son vaiid y $X_i \\sim Bernoulli(\\theta)$.\n",
        "\n",
        "En otras palabras selecionamos $n$ votantes de manera aleatoria (con reemplazo) y les pregunramos si planean votar por el candidato A.\n",
        "Encuentra el intervalo de confianza $(1-\\alpha)100%$ para $\\theta$ basado en $X_1, X_2, X_3, ..., X_n$."
      ],
      "metadata": {
        "id": "aNV-swwHhhZY"
      }
    },
    {
      "cell_type": "markdown",
      "source": [
        "Sabemos que $E[X_i] = \\theta$ y que $Var(X_i)=\\sigma^2 = \\theta(1-\\theta)$\n",
        "Asi que queremos estimar la media de la distribucion.\n",
        "\n",
        "Procedemos a buscar un valor maximo para $\\sigma$.\n",
        "\n",
        "Derivamos $f(\\theta)=\\theta(1-\\theta)$\n",
        "\n",
        "$\\theta-\\theta^2$\n",
        "\n",
        "$1-2\\theta = 0$\n",
        "\n",
        "$\\theta = 1/2$\n",
        "\n",
        "Como $1/2$ es un cota maxima de $\\sigma$ entonces.\n",
        "\n",
        "$[\\overline{X}-Z_\\frac{α}{2}\\frac{\\sigma_{max}}{\\sqrt{n}}, \\overline{X}+Z_\\frac{α}{2}\\frac{\\sigma_{max}}{\\sqrt{n}}] = $\n",
        "\n",
        "$[\\overline{X}-\\frac{Z_\\frac{α}{2}}{2\\sqrt{n}}, \\overline{X}+\\frac{Z_\\frac{α}{2}}{2\\sqrt{n}}]$"
      ],
      "metadata": {
        "id": "m6uGXn81BHkL"
      }
    },
    {
      "cell_type": "markdown",
      "source": [
        "### 4.- Resuelve los problemas Problem 2 - Problem 6 (usa las applets o Python para calcular los cuantiles) de la sección 8.3.4."
      ],
      "metadata": {
        "id": "pv_I5NZZhhoZ"
      }
    },
    {
      "cell_type": "code",
      "source": [
        "## Importar Librerías\n",
        "import numpy as np\n",
        "from scipy.stats import norm\n",
        "from scipy.stats import t\n",
        "from scipy.stats import chi2"
      ],
      "metadata": {
        "id": "UXcGDnR4hlue"
      },
      "execution_count": null,
      "outputs": []
    },
    {
      "cell_type": "code",
      "source": [
        "# Problema 2: Var(X) = 16, Media muestral X = 23.5, Confianza = 95%\n",
        "\n",
        "n = 100\n",
        "var = 16\n",
        "sigma = np.sqrt(var)\n",
        "media_muestral = 23.5\n",
        "confianza = 95\n",
        "\n",
        "alpha = (100 - confianza) / 100\n",
        "z_inf = alpha / 2\n",
        "z_sup = 1 - z_inf\n",
        "z_critica = -round(norm.ppf(z_inf), 2)\n",
        "z = (round(norm.ppf(z_inf), 3), round(norm.ppf(z_sup), 3))\n",
        "\n",
        "intervalo_confianza = (media_muestral - z_critica * sigma / np.sqrt(n), media_muestral + z_critica * sigma / np.sqrt(n))\n",
        "intervalo_confianza = list(intervalo_confianza)\n",
        "\n",
        "print(\"Alpha: \" + str(alpha))\n",
        "print(\"Cuantiles al \" + str(confianza) + \"%: \" + str(z))\n",
        "print(\"Intervalo de Confianza al 95% de Confiabilidad: \" + str(intervalo_confianza))"
      ],
      "metadata": {
        "colab": {
          "base_uri": "https://localhost:8080/"
        },
        "id": "GxgI4ZyBh_NC",
        "outputId": "8991c35a-3b41-4618-b612-161359b7bdbb"
      },
      "execution_count": null,
      "outputs": [
        {
          "output_type": "stream",
          "name": "stdout",
          "text": [
            "Alpha: 0.05\n",
            "Cuantiles al 95%: (-1.96, 1.96)\n",
            "Intervalo de Confianza al 95% de Confiabilidad: [22.716, 24.284]\n"
          ]
        }
      ]
    },
    {
      "cell_type": "code",
      "source": [
        "# Problema 3: Ejercicio para encontrar el tamaño de muestra n de votantes por un partido\n",
        "# P(X - 0.03 ≤ θ ≤ X + 0.03) ≥ 0.90\n",
        "\n",
        "confianza = 90\n",
        "\n",
        "alpha = (100 - confianza) / 100\n",
        "z = 1 - (alpha / 2)\n",
        "z = round(norm.ppf(z), 3)\n",
        "intervalo = 0.03\n",
        "\n",
        "n = round((z / (2 * intervalo)) ** 2)\n",
        "\n",
        "print(\"Alpha: \" + str(alpha))\n",
        "print(\"Cuantil al \" + str(confianza) + \"%: \" + str(z))\n",
        "print(\"Se necesita una muestra n aproximadamente igual a: \" + str(n))"
      ],
      "metadata": {
        "colab": {
          "base_uri": "https://localhost:8080/"
        },
        "id": "IrtqRCYniCjs",
        "outputId": "240faf41-1d6d-4eae-e045-90415f09a820"
      },
      "execution_count": null,
      "outputs": [
        {
          "output_type": "stream",
          "name": "stdout",
          "text": [
            "Alpha: 0.1\n",
            "Cuantil al 90%: 1.645\n",
            "Se necesita una muestra n aproximadamente igual a: 752\n"
          ]
        }
      ]
    },
    {
      "cell_type": "code",
      "source": [
        "# Problema 4: Se toma por default un Nivel de Confianza del 95%\n",
        "\n",
        "confianza = 95\n",
        "\n",
        "alpha = (100 - confianza) / 100\n",
        "z = 1 - alpha / 2\n",
        "z = round(norm.ppf(z), 3)\n",
        "\n",
        "print(\"Alpha: \" + str(alpha))\n",
        "print(\"Cuantil al \" + str(confianza) + \"%: \" + str(z))"
      ],
      "metadata": {
        "colab": {
          "base_uri": "https://localhost:8080/"
        },
        "id": "KXub_L22iIV8",
        "outputId": "e843ce94-bd59-41bb-b9c5-c70d446c7c17"
      },
      "execution_count": null,
      "outputs": [
        {
          "output_type": "stream",
          "name": "stdout",
          "text": [
            "Alpha: 0.05\n",
            "Cuantil al 95%: 1.96\n"
          ]
        }
      ]
    },
    {
      "cell_type": "code",
      "source": [
        "# Problema 5: Var muestral = 34.5, Media muestral X = 55.2, Confianza = 99%\n",
        "\n",
        "n = 144\n",
        "var = 34.5\n",
        "sigma = np.sqrt(var)\n",
        "media_muestral = 55.2\n",
        "confianza = 99\n",
        "\n",
        "alpha = (100 - confianza) / 100\n",
        "z_inf = alpha / 2\n",
        "z_sup = 1 - z_inf\n",
        "z_critica = -round(norm.ppf(z_inf), 2)\n",
        "z = (round(norm.ppf(z_inf), 3), round(norm.ppf(z_sup), 3))\n",
        "\n",
        "intervalo_confianza = (round(media_muestral - z_critica * sigma / np.sqrt(n), 3), round(media_muestral + z_critica * sigma / np.sqrt(n), 3))\n",
        "intervalo_confianza = list(intervalo_confianza)\n",
        "\n",
        "print(\"Alpha: \" + str(alpha))\n",
        "print(\"Cuantiles al \" + str(confianza) + \"%: \" + str(z))\n",
        "print(\"Intervalo de Confianza al 95% de Confianza: \" + str(intervalo_confianza))"
      ],
      "metadata": {
        "colab": {
          "base_uri": "https://localhost:8080/"
        },
        "id": "mWUXYuI4iMJZ",
        "outputId": "4ac79f65-095a-4bfa-b145-23a1597f1b8d"
      },
      "execution_count": null,
      "outputs": [
        {
          "output_type": "stream",
          "name": "stdout",
          "text": [
            "Alpha: 0.01\n",
            "Cuantiles al 99%: (-2.576, 2.576)\n",
            "Intervalo de Confianza al 95% de Confianza: [53.937, 56.463]\n"
          ]
        }
      ]
    },
    {
      "cell_type": "code",
      "source": [
        "# Problema 6a: Encontrar un Intervalo de Confianza para la media    cuando: n = 16, Var muestral = 7.5, Media muestral X = 16.7, Confianza = 95%\n",
        "# Problema 6b: Encontrar un Intervalo de Confianza para la varianza cuando: n = 16, Var muestral = 7.5, Media muestral X = 16.7, Confianza = 95%\n",
        "\n",
        "n = 16\n",
        "var = 7.5\n",
        "sigma = np.sqrt(var)\n",
        "media_muestral = 16.7\n",
        "confianza = 95\n",
        "\n",
        "alpha = (100 - confianza) / 100\n",
        "\n",
        "t_critica = round(t.ppf(1 - alpha / 2, n - 1), 2)\n",
        "intervalo_media = (round(media_muestral - t_critica * sigma / np.sqrt(n), 3), round(media_muestral + t_critica * sigma / np.sqrt(n), 3))\n",
        "intervalo_media = list(intervalo_media)\n",
        "\n",
        "chi_inf = round(chi2.ppf(alpha / 2, n - 1), 3)\n",
        "chi_sup = round(chi2.ppf(1 - alpha / 2, n - 1), 3)\n",
        "chi = (chi_inf, chi_sup)\n",
        "\n",
        "intervalo_var = (round((n - 1) * var / chi_sup, 3), round((n - 1) * var / chi_inf, 3))\n",
        "intervalo_var = list(intervalo_var)\n",
        "\n",
        "print(\"Alpha: \" + str(alpha))\n",
        "print(\"--------------------------------------------------------------------------\")\n",
        "print(\"Cuantil t (\" + str(alpha / 2) + \", \" + str(n - 1) + \") al \" + str(confianza) + \"%: \" + str(t_critica))\n",
        "print(\"Intervalo de Confianza para la Media al 95%: \" + str(intervalo_media))\n",
        "print(\"---------------------------------------------------------------------------\")\n",
        "print(\"Cuantiles chi2 (\" + str(alpha / 2) + \", \" + str(n - 1) + \") al \" + str(confianza) + \"%: \" + str(chi))\n",
        "print(\"Intervalo de Confianza para la Varianza al 95%: \" + str(intervalo_var))"
      ],
      "metadata": {
        "id": "ZF0GyOU9iTuX",
        "outputId": "e20e80f5-f2e1-4523-ce1b-2ce279d4fa96",
        "colab": {
          "base_uri": "https://localhost:8080/"
        }
      },
      "execution_count": null,
      "outputs": [
        {
          "output_type": "stream",
          "name": "stdout",
          "text": [
            "Alpha: 0.05\n",
            "--------------------------------------------------------------------------\n",
            "Cuantil t (0.025, 15) al 95%: 2.13\n",
            "Intervalo de Confianza para la Media al 95%: [15.242, 18.158]\n",
            "---------------------------------------------------------------------------\n",
            "Cuantiles chi2 (0.025, 15) al 95%: (6.262, 27.488)\n",
            "Intervalo de Confianza para la Varianza al 95%: [4.093, 17.966]\n"
          ]
        }
      ]
    }
  ]
}