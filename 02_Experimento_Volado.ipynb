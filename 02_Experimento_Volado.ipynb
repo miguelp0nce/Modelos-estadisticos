{
  "nbformat": 4,
  "nbformat_minor": 0,
  "metadata": {
    "colab": {
      "provenance": [],
      "include_colab_link": true
    },
    "kernelspec": {
      "name": "python3",
      "display_name": "Python 3"
    },
    "language_info": {
      "name": "python"
    }
  },
  "cells": [
    {
      "cell_type": "markdown",
      "metadata": {
        "id": "view-in-github",
        "colab_type": "text"
      },
      "source": [
        "<a href=\"https://colab.research.google.com/github/miguelp0nce/Modelos-estadisticos/blob/main/02_Experimento_Volado.ipynb\" target=\"_parent\"><img src=\"https://colab.research.google.com/assets/colab-badge.svg\" alt=\"Open In Colab\"/></a>"
      ]
    },
    {
      "cell_type": "markdown",
      "source": [
        "# Equipo 4\n",
        "## Integrantes:\n",
        "\n",
        "*   Juan Carlos Pulido González\n",
        "*   Massiel Amairani Palacios Tafolla\n",
        "*   Jair Dominguez Aguilar\n",
        "*   Miguel Ángel Ponce de León Sánchez\n",
        "*   Jorge Vélez"
      ],
      "metadata": {
        "id": "Dz1CbFJrQW-s"
      }
    },
    {
      "cell_type": "markdown",
      "source": [
        "### Ejercicio: Lanzamiento de 3 monedas\n",
        "Se lanzan, de manera independiente, 3 monedas al aire.\n",
        "\n",
        "El espacio muestral es:\n",
        "$$\\Omega=\\{A, S\\}\\times \\{A, S\\}\\times \\{A,S\\}=\\{ A, S\\}^{3}.$$\n",
        "\n",
        "$$\\text{card}(\\Omega)=2^3=8.$$\n",
        "\n",
        "Tenemos\n",
        "$$\\mathcal{F}=p(\\Omega)$$\n",
        "$$\\text{card}(\\mathcal{F})=2^{8}.$$\n",
        "\n",
        "\n",
        "$\\color{blue}{Definición \\ de  \\ probabilidad \\ clásica \\ (modelo \\ laplaciano)}$.\n",
        "\n",
        "Si $E$ es un evento, la función de probabilidad:\n",
        "$$\\mathbb{P}(E)=\\frac{\\text{card}(E)}{\\text{card}(\\Omega)}$$"
      ],
      "metadata": {
        "id": "mOBedE2sqEqk"
      }
    },
    {
      "cell_type": "code",
      "source": [
        "# Caso 1: Probabilidad de que todas las monedas sean Águila\n",
        "A_1 = {om for om in Omega if om[0] == \"A\"}\n",
        "A_2 = {om for om in Omega if om[1] == \"A\"}\n",
        "A_3 = {om for om in Omega if om[2] == \"A\"}\n",
        "A = A_1.intersection(A_2.intersection(A_3))\n",
        "P_A = len(A) / len(Omega)\n",
        "\n",
        "# Otra forma de resolver\n",
        "A = {om for om in Omega if om.count(\"A\") == 3}\n",
        "P_A = len(A) / len(Omega)\n",
        "P_A\n",
        "\n",
        "# Caso 2: Probabilidad de que todas las monedas sean Sol\n",
        "S = {om for om in Omega if om.count(\"S\") == 3}\n",
        "P_S = len(S) / len(Omega)\n",
        "P_S\n",
        "\n",
        "# Caso 3: Probabilidad de que al menos salga un sol\n",
        "S_1 = {om for om in Omega if om.count(\"S\") == 1}\n",
        "P_S_1 = len(S_1) / len(Omega)\n",
        "P_S_1"
      ],
      "metadata": {
        "colab": {
          "base_uri": "https://localhost:8080/"
        },
        "id": "_s5rEuS75OYy",
        "outputId": "fc91fda8-a1ba-4685-c11f-9e57c09944fb"
      },
      "execution_count": null,
      "outputs": [
        {
          "output_type": "execute_result",
          "data": {
            "text/plain": [
              "0.375"
            ]
          },
          "metadata": {},
          "execution_count": 47
        }
      ]
    },
    {
      "cell_type": "markdown",
      "source": [
        "## Creación de Funciones"
      ],
      "metadata": {
        "id": "mChmnk1o-2ED"
      }
    },
    {
      "cell_type": "code",
      "source": [
        "import itertools\n",
        "from itertools import product\n",
        "from fractions import Fraction\n",
        "\n",
        "# Función de espacio Muestral\n",
        "def fn_EspacioMuestral(opciones, n):\n",
        "  Omega = set(product(opciones, repeat = n))\n",
        "  return Omega\n",
        "\n",
        "# Función de Eventos (igualdad)\n",
        "def fn_Eventos_Igual (Omega, opcion, n):\n",
        "  P = {om for om in Omega if om.count(opcion) == n}\n",
        "  return P\n",
        "\n",
        "# Función de Eventos (Mayor)\n",
        "def fn_Eventos_Mayor (Omega, opcion, n):\n",
        "  P = {om for om in Omega if om.count(opcion) >= n}\n",
        "  return P\n",
        "\n",
        "# Función de Eventos\n",
        "def P(E, Omega):\n",
        "  P = Fraction(len(E),len(Omega))\n",
        "  return P"
      ],
      "metadata": {
        "id": "0jFlgTeu-46J"
      },
      "execution_count": null,
      "outputs": []
    },
    {
      "cell_type": "code",
      "source": [
        "# Generación de Espacio Muestral Omega para Águila y Sol con n = 3 lanzamientos de moneda de forma Independiente\n",
        "Omega = fn_EspacioMuestral(\"AS\", 3)\n",
        "Omega"
      ],
      "metadata": {
        "colab": {
          "base_uri": "https://localhost:8080/"
        },
        "id": "8yuQUsVK-QET",
        "outputId": "42bdedaf-ad0b-49bf-e585-7cdb0988b86b"
      },
      "execution_count": null,
      "outputs": [
        {
          "output_type": "execute_result",
          "data": {
            "text/plain": [
              "{('A', 'A', 'A'),\n",
              " ('A', 'A', 'S'),\n",
              " ('A', 'S', 'A'),\n",
              " ('A', 'S', 'S'),\n",
              " ('S', 'A', 'A'),\n",
              " ('S', 'A', 'S'),\n",
              " ('S', 'S', 'A'),\n",
              " ('S', 'S', 'S')}"
            ]
          },
          "metadata": {},
          "execution_count": 52
        }
      ]
    },
    {
      "cell_type": "code",
      "source": [
        "# Ejercicio 1: todas las caras son Águila\n",
        "Eventos = fn_Eventos_Igual(Omega, \"A\", 3)\n",
        "P = P(Eventos, Omega)\n",
        "print(Eventos, \"\\n\", P)"
      ],
      "metadata": {
        "colab": {
          "base_uri": "https://localhost:8080/"
        },
        "id": "PUqvR5OkEBTf",
        "outputId": "f0ec9d3c-4c0c-4c28-d3a6-c9b3f7892d06"
      },
      "execution_count": null,
      "outputs": [
        {
          "output_type": "stream",
          "name": "stdout",
          "text": [
            "{('A', 'A', 'A')} 1/8\n"
          ]
        }
      ]
    },
    {
      "cell_type": "code",
      "source": [
        "# Ejercicio 2: todas las caras son Sol\n",
        "Eventos = fn_Eventos_Igual(Omega, \"S\", 3)\n",
        "P = P(Eventos, Omega)\n",
        "print(Eventos, \"\\n\", P)"
      ],
      "metadata": {
        "colab": {
          "base_uri": "https://localhost:8080/"
        },
        "id": "sg9kDn3j-qVJ",
        "outputId": "816d530e-7809-4c8a-9b6f-daf784299d65"
      },
      "execution_count": null,
      "outputs": [
        {
          "output_type": "stream",
          "name": "stdout",
          "text": [
            "{('S', 'S', 'S')} \n",
            " 1/8\n"
          ]
        }
      ]
    },
    {
      "cell_type": "code",
      "source": [
        "# Ejercicio 3: con al menos una cara sea Sol\n",
        "Eventos = fn_Eventos_Mayor(Omega, \"S\", 1)\n",
        "P = P(Eventos, Omega)\n",
        "print(Eventos, \"\\n\", P)\n"
      ],
      "metadata": {
        "colab": {
          "base_uri": "https://localhost:8080/"
        },
        "id": "oGmRMczBEqIp",
        "outputId": "b5102255-aa9f-475f-bc27-1786f7c0d124"
      },
      "execution_count": null,
      "outputs": [
        {
          "output_type": "stream",
          "name": "stdout",
          "text": [
            "{('S', 'A', 'A'), ('S', 'S', 'A'), ('S', 'A', 'S'), ('S', 'S', 'S'), ('A', 'A', 'S'), ('A', 'S', 'A'), ('A', 'S', 'S')} \n",
            " 7/8\n"
          ]
        }
      ]
    },
    {
      "cell_type": "code",
      "source": [
        "# Ejercicio 4: con al menos dos Águilas\n",
        "Eventos = fn_Eventos_Mayor(Omega, \"A\", 2)\n",
        "P = P(Eventos, Omega)\n",
        "print(Eventos, \"\\n\", P)"
      ],
      "metadata": {
        "colab": {
          "base_uri": "https://localhost:8080/"
        },
        "id": "mHxwLjbtMirY",
        "outputId": "4ba4a67f-11a0-456f-e9d0-03fd5557444d"
      },
      "execution_count": null,
      "outputs": [
        {
          "output_type": "stream",
          "name": "stdout",
          "text": [
            "{('S', 'A', 'A'), ('A', 'S', 'A'), ('A', 'A', 'A'), ('A', 'A', 'S')} \n",
            " 1/2\n"
          ]
        }
      ]
    }
  ]
}