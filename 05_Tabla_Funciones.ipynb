{
  "nbformat": 4,
  "nbformat_minor": 0,
  "metadata": {
    "colab": {
      "provenance": [],
      "include_colab_link": true
    },
    "kernelspec": {
      "name": "python3",
      "display_name": "Python 3"
    },
    "language_info": {
      "name": "python"
    }
  },
  "cells": [
    {
      "cell_type": "markdown",
      "metadata": {
        "id": "view-in-github",
        "colab_type": "text"
      },
      "source": [
        "<a href=\"https://colab.research.google.com/github/miguelp0nce/Modelos-estadisticos/blob/main/05_Tabla_Funciones.ipynb\" target=\"_parent\"><img src=\"https://colab.research.google.com/assets/colab-badge.svg\" alt=\"Open In Colab\"/></a>"
      ]
    },
    {
      "cell_type": "markdown",
      "source": [
        "## Funciones Generadoras de Momentos (FGM) y Funciones Características (FC) para las Distribuciones:\n",
        "\n",
        "| Distribución                           | FGM: $M_X(t)$                                                                                         | FC: $\\phi_X(t) $                                                                                     |\n",
        "|--------------------------------------------------|---------------------------------------------------------------------------------------------------------|--------------------------------------------------------------------------------------------------------|\n",
        "|$\\textbf{Discretas}$|\n",
        "| $\\textbf{Uniforme:}$ <br/>$\\text{Unif}\\{a,b\\}$       | $M_X(t) = \\frac{e^{ta} (1 - e^{t(b-a+1)})}{(b - a + 1)(1 - e^t)}$                                 | $ \\phi_X(t) = \\frac{e^{itb} - e^{ita}}{i(b-a+1)(e^{it} - 1)}$                                         |\n",
        "| $\\textbf{Bernoulli:}$ <br/> $\\text{Bern}{\\{0, 1\\}}$                | $ M_X(t) = 1 - p + pe^t $                                                                              | $ \\phi_X(t) = 1 - p + pe^{it} $                                                                       |\n",
        "| $\\textbf{Binomial:}$ <br/> $\\text{Binom}{(n, p)}$                   | $ M_X(t) = (1 - p + pe^t)^n $                                                                          | $ \\phi_X(t) = (1 - p + pe^{it})^n $                                                                   |\n",
        "| $\\textbf{Poisson:}$ <br/> $\\text{Pois}(\\lambda)$                  | $ M_X(t) = e^{\\lambda (e^t - 1)} $                                                                      | $ \\phi_X(t) = e^{\\lambda (e^{it} - 1)} $                                                             |\n",
        "| $\\textbf{Geométrica:}$ <br/> $\\text{Geom}(p)$                    | $ M_X(t) = \\frac{pe^t}{1 - (1-p)e^t} $                                                                  | $ \\phi_X(t) = \\frac{pe^{it}}{1 - (1-p)e^{it}} $                                                        |\n",
        "| $\\textbf{Binomial Negativa:}$: <br/> $\\text{NegBin}{(r, p)}$        | $ M_X(t) = \\left( \\frac{pe^t}{1 - (1-p)e^t} \\right)^r $                                                | $ \\phi_X(t) = \\left( \\frac{pe^{it}}{1 - (1-p)e^{it}} \\right)^r $                                      |\n",
        "| $\\textbf{Hipergeométrica:}$: <br/> $\\text{HGeom}(N, K, n)$  | No tiene una forma cerrada simple para $M_X(t) $                                                     | No tiene una forma cerrada simple para \\($phi_X(t)$                                                 |\n",
        "|$\\textbf{Continuas}$|\n",
        "| $\\textbf{Uniforme}$: <br/> $ \\text{Unif}(a, b) $       | $ M_X(t) = \\frac{e^{tb} - e^{ta}}{t(b - a)} $ | $ \\phi_X(t) = \\frac{e^{itb} - e^{ita}}{it(b - a)} $   |\n",
        "| $\\textbf{Exponencial}$: <br/> $ \\text{Exp}(\\lambda) $  | $ M_X(t) = \\frac{\\lambda}{\\lambda - t} \\quad \\text{para } t < \\lambda $ | $ \\phi_X(t) = \\frac{\\lambda}{\\lambda - it} $   |\n"
      ],
      "metadata": {
        "id": "-qmFj7KUDA4P"
      }
    }
  ]
}